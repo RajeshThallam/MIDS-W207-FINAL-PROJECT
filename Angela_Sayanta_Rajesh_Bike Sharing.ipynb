{
 "cells": [
  {
   "cell_type": "markdown",
   "metadata": {},
   "source": [
    "# *Bike Sharing Demand - Kaggle Competition*\n",
    "\n",
    "# Forecast use of a city bikeshare system"
   ]
  },
  {
   "cell_type": "markdown",
   "metadata": {},
   "source": [
    "https://www.kaggle.com/c/bike-sharing-demand/data\n",
    "\n",
    "Angela Gunn  \n",
    "Sayantan Satpati  \n",
    "Rajesh Thallam"
   ]
  },
  {
   "cell_type": "markdown",
   "metadata": {},
   "source": [
    "## Import Libraries\n",
    "\n",
    "pandas (http://pandas.pydata.org/)  \n",
    "statsmodels (http://statsmodels.sourceforge.net/)  \n",
    "pylab (http://wiki.scipy.org/PyLab)  \n",
    "numpy   (http://www.numpy.org/)\n",
    "matplotlib (http://matplotlib.org/)  \n",
    "scipy.stats (http://docs.scipy.org/doc/scipy/reference/stats.html)\n",
    "itertools (https://docs.python.org/2/library/itertools.html)\n",
    "sklearn (http://scikit-learn.org/stable/)  \n",
    "os (https://docs.python.org/2/library/os.html)"
   ]
  },
  {
   "cell_type": "code",
   "execution_count": 1,
   "metadata": {
    "collapsed": false
   },
   "outputs": [],
   "source": [
    "import pandas as pd\n",
    "from pandas.tools.plotting import scatter_matrix\n",
    "import statsmodels.api as sm\n",
    "import pylab as pl\n",
    "import numpy as np\n",
    "import matplotlib.pyplot as plt\n",
    "import matplotlib.cm as cm\n",
    "from scipy import stats\n",
    "from scipy.stats import pearsonr\n",
    "\n",
    "import itertools\n",
    "\n",
    "from sklearn import linear_model\n",
    "from sklearn import preprocessing\n",
    "from sklearn import svm\n",
    "from sklearn.ensemble import ExtraTreesClassifier\n",
    "from sklearn import cross_validation\n",
    "from sklearn import ensemble\n",
    "from sklearn.utils import shuffle\n",
    "from sklearn.cross_validation import train_test_split\n",
    "from sklearn.metrics import classification_report\n",
    "from sklearn.pipeline import Pipeline\n",
    "from sklearn.grid_search import GridSearchCV\n",
    "\n",
    "import os\n",
    "\n",
    "%matplotlib inline"
   ]
  },
  {
   "cell_type": "markdown",
   "metadata": {},
   "source": [
    "# Data Import\n",
    "\n",
    "##Data Fields\n",
    "```\n",
    "01. datetime    - hourly date + timestamp  \n",
    "02. season      -  1 = spring, 2 = summer, 3 = fall, 4 = winter \n",
    "03. holiday     - whether the day is considered a holiday\n",
    "04. workingday  - whether the day is neither a weekend nor holiday\n",
    "05. weather     - 1: Clear, Few clouds, Partly cloudy, Partly cloudy\n",
    "                  2: Mist + Cloudy, Mist + Broken clouds, Mist + Few clouds, Mist\n",
    "                  3: Light Snow, Light Rain + Thunderstorm + Scattered clouds, Light Rain + Scattered clouds\n",
    "                  4: Heavy Rain + Ice Pallets + Thunderstorm + Mist, Snow + Fog \n",
    "06. temp        - temperature in Celsius\n",
    "07. atemp       - \"feels like\" temperature in Celsius\n",
    "08. humidity    - relative humidity\n",
    "09. windspeed   - wind speed\n",
    "10. casual      - number of non-registered user rentals initiated\n",
    "11. registered  - number of registered user rentals initiated\n",
    "12. count       - number of total rentals\n",
    "```\n",
    "\n",
    "Note the Kaggle Test file does not have fields 10-12."
   ]
  },
  {
   "cell_type": "code",
   "execution_count": 2,
   "metadata": {
    "collapsed": false
   },
   "outputs": [],
   "source": [
    "# import training data set\n",
    "TRAIN = pd.read_csv(\"train.csv\")\n",
    "KAGGLE_TEST = pd.read_csv(\"test.csv\")"
   ]
  },
  {
   "cell_type": "code",
   "execution_count": 3,
   "metadata": {
    "collapsed": false
   },
   "outputs": [
    {
     "data": {
      "text/html": [
       "<div>\n",
       "<table border=\"1\" class=\"dataframe\">\n",
       "  <thead>\n",
       "    <tr style=\"text-align: right;\">\n",
       "      <th></th>\n",
       "      <th>datetime</th>\n",
       "      <th>season</th>\n",
       "      <th>holiday</th>\n",
       "      <th>workingday</th>\n",
       "      <th>weather</th>\n",
       "      <th>temp</th>\n",
       "      <th>atemp</th>\n",
       "      <th>humidity</th>\n",
       "      <th>windspeed</th>\n",
       "      <th>casual</th>\n",
       "      <th>registered</th>\n",
       "      <th>count</th>\n",
       "    </tr>\n",
       "  </thead>\n",
       "  <tbody>\n",
       "    <tr>\n",
       "      <th>0</th>\n",
       "      <td>2011-01-01 00:00:00</td>\n",
       "      <td>1</td>\n",
       "      <td>0</td>\n",
       "      <td>0</td>\n",
       "      <td>1</td>\n",
       "      <td>9.84</td>\n",
       "      <td>14.395</td>\n",
       "      <td>81</td>\n",
       "      <td>0</td>\n",
       "      <td>3</td>\n",
       "      <td>13</td>\n",
       "      <td>16</td>\n",
       "    </tr>\n",
       "    <tr>\n",
       "      <th>1</th>\n",
       "      <td>2011-01-01 01:00:00</td>\n",
       "      <td>1</td>\n",
       "      <td>0</td>\n",
       "      <td>0</td>\n",
       "      <td>1</td>\n",
       "      <td>9.02</td>\n",
       "      <td>13.635</td>\n",
       "      <td>80</td>\n",
       "      <td>0</td>\n",
       "      <td>8</td>\n",
       "      <td>32</td>\n",
       "      <td>40</td>\n",
       "    </tr>\n",
       "    <tr>\n",
       "      <th>2</th>\n",
       "      <td>2011-01-01 02:00:00</td>\n",
       "      <td>1</td>\n",
       "      <td>0</td>\n",
       "      <td>0</td>\n",
       "      <td>1</td>\n",
       "      <td>9.02</td>\n",
       "      <td>13.635</td>\n",
       "      <td>80</td>\n",
       "      <td>0</td>\n",
       "      <td>5</td>\n",
       "      <td>27</td>\n",
       "      <td>32</td>\n",
       "    </tr>\n",
       "    <tr>\n",
       "      <th>3</th>\n",
       "      <td>2011-01-01 03:00:00</td>\n",
       "      <td>1</td>\n",
       "      <td>0</td>\n",
       "      <td>0</td>\n",
       "      <td>1</td>\n",
       "      <td>9.84</td>\n",
       "      <td>14.395</td>\n",
       "      <td>75</td>\n",
       "      <td>0</td>\n",
       "      <td>3</td>\n",
       "      <td>10</td>\n",
       "      <td>13</td>\n",
       "    </tr>\n",
       "    <tr>\n",
       "      <th>4</th>\n",
       "      <td>2011-01-01 04:00:00</td>\n",
       "      <td>1</td>\n",
       "      <td>0</td>\n",
       "      <td>0</td>\n",
       "      <td>1</td>\n",
       "      <td>9.84</td>\n",
       "      <td>14.395</td>\n",
       "      <td>75</td>\n",
       "      <td>0</td>\n",
       "      <td>0</td>\n",
       "      <td>1</td>\n",
       "      <td>1</td>\n",
       "    </tr>\n",
       "  </tbody>\n",
       "</table>\n",
       "</div>"
      ],
      "text/plain": [
       "              datetime  season  holiday  workingday  weather  temp   atemp  \\\n",
       "0  2011-01-01 00:00:00       1        0           0        1  9.84  14.395   \n",
       "1  2011-01-01 01:00:00       1        0           0        1  9.02  13.635   \n",
       "2  2011-01-01 02:00:00       1        0           0        1  9.02  13.635   \n",
       "3  2011-01-01 03:00:00       1        0           0        1  9.84  14.395   \n",
       "4  2011-01-01 04:00:00       1        0           0        1  9.84  14.395   \n",
       "\n",
       "   humidity  windspeed  casual  registered  count  \n",
       "0        81          0       3          13     16  \n",
       "1        80          0       8          32     40  \n",
       "2        80          0       5          27     32  \n",
       "3        75          0       3          10     13  \n",
       "4        75          0       0           1      1  "
      ]
     },
     "execution_count": 3,
     "metadata": {},
     "output_type": "execute_result"
    }
   ],
   "source": [
    "#preview data\n",
    "TRAIN.head()"
   ]
  },
  {
   "cell_type": "code",
   "execution_count": 4,
   "metadata": {
    "collapsed": false
   },
   "outputs": [
    {
     "data": {
      "text/html": [
       "<div>\n",
       "<table border=\"1\" class=\"dataframe\">\n",
       "  <thead>\n",
       "    <tr style=\"text-align: right;\">\n",
       "      <th></th>\n",
       "      <th>datetime</th>\n",
       "      <th>season</th>\n",
       "      <th>holiday</th>\n",
       "      <th>workingday</th>\n",
       "      <th>weather</th>\n",
       "      <th>temp</th>\n",
       "      <th>atemp</th>\n",
       "      <th>humidity</th>\n",
       "      <th>windspeed</th>\n",
       "    </tr>\n",
       "  </thead>\n",
       "  <tbody>\n",
       "    <tr>\n",
       "      <th>0</th>\n",
       "      <td>2011-01-20 00:00:00</td>\n",
       "      <td>1</td>\n",
       "      <td>0</td>\n",
       "      <td>1</td>\n",
       "      <td>1</td>\n",
       "      <td>10.66</td>\n",
       "      <td>11.365</td>\n",
       "      <td>56</td>\n",
       "      <td>26.0027</td>\n",
       "    </tr>\n",
       "    <tr>\n",
       "      <th>1</th>\n",
       "      <td>2011-01-20 01:00:00</td>\n",
       "      <td>1</td>\n",
       "      <td>0</td>\n",
       "      <td>1</td>\n",
       "      <td>1</td>\n",
       "      <td>10.66</td>\n",
       "      <td>13.635</td>\n",
       "      <td>56</td>\n",
       "      <td>0.0000</td>\n",
       "    </tr>\n",
       "    <tr>\n",
       "      <th>2</th>\n",
       "      <td>2011-01-20 02:00:00</td>\n",
       "      <td>1</td>\n",
       "      <td>0</td>\n",
       "      <td>1</td>\n",
       "      <td>1</td>\n",
       "      <td>10.66</td>\n",
       "      <td>13.635</td>\n",
       "      <td>56</td>\n",
       "      <td>0.0000</td>\n",
       "    </tr>\n",
       "    <tr>\n",
       "      <th>3</th>\n",
       "      <td>2011-01-20 03:00:00</td>\n",
       "      <td>1</td>\n",
       "      <td>0</td>\n",
       "      <td>1</td>\n",
       "      <td>1</td>\n",
       "      <td>10.66</td>\n",
       "      <td>12.880</td>\n",
       "      <td>56</td>\n",
       "      <td>11.0014</td>\n",
       "    </tr>\n",
       "    <tr>\n",
       "      <th>4</th>\n",
       "      <td>2011-01-20 04:00:00</td>\n",
       "      <td>1</td>\n",
       "      <td>0</td>\n",
       "      <td>1</td>\n",
       "      <td>1</td>\n",
       "      <td>10.66</td>\n",
       "      <td>12.880</td>\n",
       "      <td>56</td>\n",
       "      <td>11.0014</td>\n",
       "    </tr>\n",
       "  </tbody>\n",
       "</table>\n",
       "</div>"
      ],
      "text/plain": [
       "              datetime  season  holiday  workingday  weather   temp   atemp  \\\n",
       "0  2011-01-20 00:00:00       1        0           1        1  10.66  11.365   \n",
       "1  2011-01-20 01:00:00       1        0           1        1  10.66  13.635   \n",
       "2  2011-01-20 02:00:00       1        0           1        1  10.66  13.635   \n",
       "3  2011-01-20 03:00:00       1        0           1        1  10.66  12.880   \n",
       "4  2011-01-20 04:00:00       1        0           1        1  10.66  12.880   \n",
       "\n",
       "   humidity  windspeed  \n",
       "0        56    26.0027  \n",
       "1        56     0.0000  \n",
       "2        56     0.0000  \n",
       "3        56    11.0014  \n",
       "4        56    11.0014  "
      ]
     },
     "execution_count": 4,
     "metadata": {},
     "output_type": "execute_result"
    }
   ],
   "source": [
    "#preview data\n",
    "KAGGLE_TEST.head()"
   ]
  },
  {
   "cell_type": "markdown",
   "metadata": {},
   "source": [
    "# Exploratory Analysis\n",
    "## i. Total bike rentals (count) distribution"
   ]
  },
  {
   "cell_type": "code",
   "execution_count": null,
   "metadata": {
    "collapsed": true
   },
   "outputs": [],
   "source": [
    "#function processDateTime\n",
    "# purpose: simple function to process datatetime\n",
    "# df: data frame\n",
    "# returns data frame\n",
    "def processDateTime(df):  \n",
    "    #Create new columns for day, month, year, hour\n",
    "    df.index = pd.to_datetime(df['datetime']) # creating an index from the timestamp\n",
    "    df['year'] = pd.DatetimeIndex(df['datetime']).year # year\n",
    "    df['month'] = pd.DatetimeIndex(df['datetime']).month # month\n",
    "    df['day'] = pd.DatetimeIndex(df['datetime']).day # day\n",
    "    df['hours'] = pd.DatetimeIndex(df['datetime']).hour # hour\n",
    "    df['dayofweek'] = pd.DatetimeIndex(df['datetime']).dayofweek # day of the week 0 = Monday to 6 = Sunday\n",
    "    df['rownum'] = range(1,len(df)+1) \n",
    "    \n",
    "    return df\n",
    "\n",
    "#create a dataset for our exploration\n",
    "explore_data = processDateTime(TRAIN)\n"
   ]
  },
  {
   "cell_type": "code",
   "execution_count": null,
   "metadata": {
    "collapsed": false
   },
   "outputs": [],
   "source": [
    "fig = plt.figure(figsize=(12,7))\n",
    "ax = fig.add_subplot(111)\n",
    "plt.hist(TRAIN['count'], bins =25, color='#5b9bd5')\n",
    "ax.set_xlabel('data')\n",
    "ax.set_ylabel('counts')\n",
    "ax.set_title(\"Distribution of the Number of Bike Requests\")\n",
    "plt.tight_layout()\n",
    "plt.show()"
   ]
  },
  {
   "cell_type": "markdown",
   "metadata": {},
   "source": [
    "## ii. Correlation"
   ]
  },
  {
   "cell_type": "code",
   "execution_count": null,
   "metadata": {
    "collapsed": false
   },
   "outputs": [],
   "source": [
    "# correlation matrix between all variables\n",
    "explore_data = explore_data.drop(['datetime'], 1)\n",
    "correlation = explore_data.corr(method = 'pearson', min_periods = 1)\n",
    "correlation.describe()"
   ]
  },
  {
   "cell_type": "code",
   "execution_count": null,
   "metadata": {
    "collapsed": false
   },
   "outputs": [],
   "source": [
    "col_names = explore_data.columns.values.tolist() \n",
    "row_names = explore_data.columns.values.tolist()\n",
    "data = correlation\n",
    "\n",
    "fig = plt.figure(figsize=(15,8))\n",
    "ax = fig.add_subplot(121)\n",
    "heatmap = ax.pcolor(data, cmap=plt.cm.Greys)\n",
    "\n",
    "# put the major ticks at the middle of each cell\n",
    "ax.set_xticks(np.arange(data.shape[0])+1, minor=False)\n",
    "ax.set_yticks(np.arange(data.shape[1])+1, minor=False)\n",
    "\n",
    "# want a more natural, table-like display\n",
    "ax.invert_yaxis()\n",
    "ax.xaxis.tick_top()\n",
    "\n",
    "ax.set_xticklabels(row_names, minor=False, rotation='vertical')\n",
    "ax.set_yticklabels(col_names, minor=False, rotation='horizontal')\n",
    "plt.show()"
   ]
  },
  {
   "cell_type": "markdown",
   "metadata": {},
   "source": [
    "\n",
    "Some findings from the correlation matrix\n",
    "\n",
    "- Well correlated \n",
    "  - season and month\n",
    "  - season and weather  \n",
    "  - season and temperature\n",
    "  - season and humidity\n",
    "  - working day and registered - (obvious) working days means commuters\n",
    "  - atemp and weather\n",
    "  - atemp and windspeed\n",
    "  - atemp and registered\n",
    "  - atemp and count\n",
    "  - casual and holiday\n",
    "  - casual and season\n",
    "  - casual and windspeed\n",
    "  - casual and year, hour, day and day of the week\n",
    "  - casual and atemp\n",
    "  - casual and median count\n",
    "  - registered and season\n",
    "  - registered and atemp\n",
    "  - registered and windspeed\n",
    "  - registered and year and hour\n",
    "  - registered and median\n",
    "  - count and season\n",
    "  - count and weather\n",
    "  - count and atemp\n",
    "  - count and windspeed\n",
    "  - count and year, hour\n",
    "  - count and median\n",
    "\n",
    "- Somewhat correlated\n",
    "  - workingday and holiday\n",
    "  - windspeed and day"
   ]
  },
  {
   "cell_type": "markdown",
   "metadata": {},
   "source": [
    "###How about checking p-value? (data exploration is fun!)"
   ]
  },
  {
   "cell_type": "code",
   "execution_count": null,
   "metadata": {
    "collapsed": false
   },
   "outputs": [],
   "source": [
    "n = len(explore_data.columns)\n",
    "r = [pearsonr(explore_data[[i]], explore_data[[j]]) + (explore_data.columns.values[i], explore_data.columns.values[j]) for i in np.arange(n) for j in np.arange(n)]\n",
    "r = np.array(r)\n",
    "r[:, 1] = np.hstack(r[:, 1])\n",
    "r[:, 0] = np.hstack(r[:, 0])\n",
    "\n",
    "corr_m = pd.DataFrame(r[:,:], columns=['PearsonR', 'pValue', 'corX', 'corY'])\n",
    "corr_m['significance'] = corr_m.apply(lambda row: '***' if row[1] <= .001 else '**' if row[1] <= .01 else '*' if row[1] <= .01 else '-', axis=1)\n",
    "\n",
    "corr_m.query(' PearsonR != 1 and significance != \"-\" and corX != \"rownum\" and corY != \"rownum\" and ( PearsonR >= 0.3 or PearsonR <= -0.3) ')"
   ]
  },
  {
   "cell_type": "markdown",
   "metadata": {},
   "source": [
    "And a few more fun charts!\n",
    "\n",
    "These charts show the histogram on the diagonal, and scatter plots elsewhere against the variables on the axis. The graphs are symetrical on the diagonal axis.\n",
    "\n",
    "This visual confirms some of our assumptions on the data."
   ]
  },
  {
   "cell_type": "code",
   "execution_count": null,
   "metadata": {
    "collapsed": false
   },
   "outputs": [],
   "source": [
    "_ = pd.tools.plotting.scatter_matrix(explore_data.ix[:,5:12], figsize=(15,10), diagonal='hist', color='brown')"
   ]
  },
  {
   "cell_type": "code",
   "execution_count": null,
   "metadata": {
    "collapsed": false
   },
   "outputs": [],
   "source": [
    "_ = pd.tools.plotting.scatter_matrix(explore_data.ix[:,10:16], figsize=(15,10), diagonal='hist', color='brown')"
   ]
  },
  {
   "cell_type": "markdown",
   "metadata": {},
   "source": [
    "#### Why casual and registered users should be modeled separately?"
   ]
  },
  {
   "cell_type": "code",
   "execution_count": null,
   "metadata": {
    "collapsed": false
   },
   "outputs": [],
   "source": [
    "fig = plt.figure(figsize=(15,8))\n",
    "ax1 = plt.subplot(221); ax1.set_title(\"Total Ridership 'Count'\")\n",
    "ax1.plot(explore_data['count'])\n",
    "ax2 = plt.subplot(223); ax2.set_title(\"'Casual' Ridership\")\n",
    "ax2.plot(explore_data['registered'])\n",
    "ax3 = plt.subplot(224); ax3.set_title(\"'Registered' Ridership\")\n",
    "ax3.plot(explore_data['casual'])\n",
    "\n",
    "plt.tight_layout()\n",
    "plt.show()"
   ]
  },
  {
   "cell_type": "markdown",
   "metadata": {},
   "source": [
    "The above charts show casual and registered ridership follows very different patterns."
   ]
  },
  {
   "cell_type": "markdown",
   "metadata": {},
   "source": [
    "## iii. Exploratory analysis\n",
    "\n",
    "Here we will create a set of plots that will show patterns in the data"
   ]
  },
  {
   "cell_type": "code",
   "execution_count": null,
   "metadata": {
    "collapsed": false
   },
   "outputs": [],
   "source": [
    "# data exploratory analysis\n",
    "fig = plt.figure(figsize=(15,20))\n",
    "\n",
    "pl.subplots_adjust(hspace=0.000)\n",
    "number_of_subplots=18\n",
    "\n",
    "col_names = ['count', 'temp', 'humidity', 'windspeed', 'atemp', 'month']\n",
    "no_of_axes = 3\n",
    "\n",
    "for v in np.arange(0, number_of_subplots, 3):\n",
    "    ax1 = pl.subplot(number_of_subplots/3, 3, v+1)\n",
    "    ax1.plot(explore_data[col_names[v/3]], color='#5b9bd5')\n",
    "    ax1.set_xlabel(\"datetime\")\n",
    "    ax1.set_ylabel(col_names[v/3])\n",
    "    ax1.set_title('time series of ' + col_names[v/3])\n",
    "    \n",
    "    ax2 = pl.subplot(number_of_subplots/3, 3, v+2)\n",
    "    ax2.hist(explore_data[col_names[v/3]], color='#5b9bd5')\n",
    "    ax2.set_xlabel(col_names[v/3])\n",
    "    ax2.set_ylabel(\"density\")\n",
    "    ax2.set_title('histogram of ' + col_names[v/3])\n",
    "\n",
    "    ax3 = pl.subplot(number_of_subplots/3, 3, v+3)\n",
    "    ax3.scatter(explore_data[col_names[v/3]], explore_data['count'], color='red')\n",
    "    ax3.set_xlabel(col_names[v/3])\n",
    "    ax3.set_ylabel(\"count\")\n",
    "    ax3.set_title('scatter plot of ' + col_names[v/3])\n",
    "    \n",
    "plt.tight_layout()\n",
    "#plt.savefig(\"../images/data_exploration_1.jpg\", dpi=150)\n",
    "plt.show()"
   ]
  },
  {
   "cell_type": "markdown",
   "metadata": {},
   "source": [
    "## iv. Total rentals, registered and casual users"
   ]
  },
  {
   "cell_type": "code",
   "execution_count": null,
   "metadata": {
    "collapsed": false
   },
   "outputs": [],
   "source": [
    "# analyze dependent variables\n",
    "fig = plt.figure(figsize=(12, 12))\n",
    "\n",
    "# Defining a color pattern based\n",
    "colors = np.array([(31, 119, 180), (255, 127, 14)])/255.\n",
    "\n",
    "plt.subplots_adjust(hspace = 0.000)\n",
    "\n",
    "group = explore_data['dayofweek']\n",
    "ind = range(7)\n",
    "x_ticks = ('M', 'T', 'W', 'T', 'F', 'S', 'S')\n",
    "\n",
    "df_reg = np.bincount(group, weights=explore_data['registered'])\n",
    "df_cas = np.bincount(group, weights=explore_data['casual'])\n",
    "\n",
    "ax1 = plt.subplot(3, 2, 1)\n",
    "ax1.bar(ind, df_reg, color=colors[0], align='center')\n",
    "ax1.bar(ind, df_cas, color=colors[1], bottom = df_reg, align='center')\n",
    "ax1.set_xlabel(\"Day of the week\")\n",
    "ax1.set_ylabel(\"Registered and Casual Users\")\n",
    "ax1.set_title('Distribution of registered and casual users by day of the week')\n",
    "plt.legend(labels = ('Registered', 'Casual'), ncol=1, loc='upper left')\n",
    "ax1.set_yticks(np.arange(0, 500000, 50000))\n",
    "plt.xticks(ind, ('M', 'T', 'W', 'T', 'F', 'S', 'S'), horizontalalignment = 'center')\n",
    "\n",
    "group = explore_data['hours']\n",
    "ind = range(24)\n",
    "df_reg = np.bincount(group, weights=explore_data['registered'])\n",
    "df_cas = np.bincount(group, weights=explore_data['casual'])\n",
    "\n",
    "ax2 = plt.subplot(3, 2, 2)\n",
    "ax2.bar(ind, df_reg, color=colors[0], align='center')\n",
    "ax2.bar(ind, df_cas, color=colors[1], bottom = df_reg, align='center')\n",
    "ax2.set_xlabel(\"Hour of the Day\")\n",
    "ax2.set_ylabel(\"Registered and Casual Users\")\n",
    "ax2.set_title('Distribution of registered and casual users by hour of the day')\n",
    "plt.legend(labels = ('Registered', 'Casual'), ncol=1, loc='upper left')\n",
    "ax2.set_yticks(np.arange(0, 300000, 50000))\n",
    "plt.xticks(ind, horizontalalignment = 'center')\n",
    "\n",
    "ax3 = plt.subplot(3, 2, 3)\n",
    "ax3.bar(ind, df_reg, color=colors[0], align='center')\n",
    "ax3.set_xlabel(\"Hour of the Day\")\n",
    "ax3.set_ylabel(\"Registered Users\")\n",
    "ax3.set_title('Distribution of registered users by hour of the day')\n",
    "plt.legend(labels = ('Registered'), ncol=1, loc='upper left')\n",
    "ax3.set_yticks(np.arange(0, 250000, 50000))\n",
    "plt.xticks(ind, horizontalalignment = 'center')\n",
    "\n",
    "ax4 = plt.subplot(3, 2, 4)\n",
    "ax4.bar(ind, df_cas, color=colors[1], align='center')\n",
    "ax4.set_xlabel(\"Hour of the Day\")\n",
    "ax4.set_ylabel(\"Casual Users\")\n",
    "ax4.set_title('Distribution of casual users by hour of the day')\n",
    "plt.legend(labels = ('Casual'), ncol=1, loc='upper left')\n",
    "ax4.set_yticks(np.arange(0, 50000, 10000))\n",
    "plt.xticks(ind, horizontalalignment = 'center')\n",
    "\n",
    "group_w = explore_data.loc[explore_data.workingday==1,'hours']\n",
    "group_nw = explore_data.loc[explore_data.workingday==0,'hours']\n",
    "ind = range(24)\n",
    "df_workday = np.bincount(group_w, weights=explore_data.loc[explore_data.workingday==1, 'count'])\n",
    "df_not_workday = np.bincount(group_nw, weights=explore_data.loc[explore_data.workingday==0, 'count'])\n",
    "\n",
    "ax5 = plt.subplot(3, 2, 5)\n",
    "ax5.bar(ind, df_workday, color=colors[0], align='center')\n",
    "ax5.bar(ind, df_not_workday, color=colors[1], bottom = df_workday, align='center')\n",
    "ax5.set_xlabel(\"Hour of the Day\")\n",
    "ax5.set_ylabel(\"Riders on workday or holiday/weekend\")\n",
    "ax5.set_title('Distribution of riders on workday or holiday/weekend by hour of the day')\n",
    "plt.legend(labels = ('Workday', 'Not Workday'), ncol=1, loc='upper left')\n",
    "ax5.set_yticks(np.arange(0, 300000, 50000))\n",
    "plt.xticks(ind, horizontalalignment = 'center')\n",
    "\n",
    "group = explore_data['month']\n",
    "ind = np.arange(1, 13, 1)\n",
    "df_reg = np.bincount(group, weights=explore_data['registered'])\n",
    "df_cas = np.bincount(group, weights=explore_data['casual'])\n",
    "\n",
    "ax6 = plt.subplot(3, 2, 6)\n",
    "ax6.bar(ind, df_reg[1:], color=colors[0], align='center')\n",
    "ax6.bar(ind, df_cas[1:], color=colors[1], bottom = df_reg[1:], align='center')\n",
    "ax6.set_xlabel(\"Month\")\n",
    "ax6.set_ylabel(\"Registered and Casual Users\")\n",
    "ax6.set_title('Distribution of registered and casual users by month')\n",
    "plt.legend(labels = ('Registered', 'Casual'), ncol=1, loc='upper left')\n",
    "ax6.set_yticks(np.arange(0, 300000, 50000))\n",
    "plt.xticks(ind, horizontalalignment = 'center')\n",
    "\n",
    "plt.tight_layout()\n",
    "#plt.savefig(\"../images/data_exploration_2.jpg\", dpi=150)\n",
    "plt.show()"
   ]
  },
  {
   "cell_type": "markdown",
   "metadata": {},
   "source": [
    "Looking at the Registered Users and the Casual Users, we see another reason why registered and casual ridership should be modelled separately.\n",
    "\n",
    "We also see the emergence of peaks when looking at the hour of the day. Let's see those peak hours closely for each day."
   ]
  },
  {
   "cell_type": "code",
   "execution_count": null,
   "metadata": {
    "collapsed": false
   },
   "outputs": [],
   "source": [
    "fig,axes = plt.subplots(figsize=(12, 8), nrows=2, ncols=2)\n",
    "dy_cas = explore_data.groupby(['dayofweek','hours'])['casual'].mean()\n",
    "dy_reg = explore_data.groupby(['dayofweek','hours'])['registered'].mean()\n",
    "\n",
    "dy_cas_m = explore_data.groupby(['dayofweek','month'])['casual'].mean()\n",
    "dy_reg_m = explore_data.groupby(['dayofweek','month'])['registered'].mean()\n",
    "\n",
    "\n",
    "dy_cas_m = explore_data.groupby(['dayofweek','month'])['casual'].mean()\n",
    "dy_reg_m = explore_data.groupby(['dayofweek','month'])['registered'].mean()\n",
    "\n",
    "plt.sca(axes[0,0])\n",
    "dy = ['Mon','Tue','Wed','Thu','Fri','Sat','Sun']\n",
    "for i in range(7):\n",
    "    dy_cas[i].plot(kind = 'line',label = dy[i])\n",
    "\n",
    "axes[0,0].set_title('Distribution of casual users by hour and day')\n",
    "plt.xticks(list(range(24)), horizontalalignment = 'center')\n",
    "plt.legend(loc='upper left')\n",
    "\n",
    "plt.sca(axes[0,1])\n",
    "for i in range(7):\n",
    "    dy_reg[i].plot(kind = 'line',label = dy[i])\n",
    "\n",
    "axes[0,1].set_title('Distribution of registered users by hour and day')\n",
    "plt.xticks(list(range(24)), horizontalalignment = 'center')\n",
    "plt.legend(loc='upper left')\n",
    "\n",
    "\n",
    "plt.sca(axes[1,0])\n",
    "dy = ['Mon','Tue','Wed','Thu','Fri','Sat','Sun']\n",
    "for i in range(7):\n",
    "    dy_cas_m[i].plot(kind = 'line',label = dy[i])\n",
    "\n",
    "axes[1,0].set_title('Distribution of casual users by month and day')\n",
    "plt.xticks(list(range(12)), horizontalalignment = 'center')\n",
    "plt.legend(loc='upper left')\n",
    "\n",
    "plt.sca(axes[1,1])\n",
    "for i in range(7):\n",
    "    dy_reg_m[i].plot(kind = 'line',label = dy[i])\n",
    "\n",
    "axes[1,1].set_title('Distribution of registered users by month and day')\n",
    "plt.xticks(list(range(12)), horizontalalignment = 'center')\n",
    "plt.legend(loc='upper left')\n",
    "\n",
    "plt.tight_layout()\n",
    "plt.show()"
   ]
  },
  {
   "cell_type": "markdown",
   "metadata": {},
   "source": [
    "The above charts clearly show the differences between registered and casual ridership, which supports our theory registered and casual ridership should be modeled separately.\n"
   ]
  },
  {
   "cell_type": "markdown",
   "metadata": {},
   "source": [
    "What about ridership with temperature, humidity and windspeed?"
   ]
  },
  {
   "cell_type": "code",
   "execution_count": null,
   "metadata": {
    "collapsed": false
   },
   "outputs": [],
   "source": [
    "explore_data[['temp', 'registered', 'casual', 'count']].groupby('temp', sort=True).sum().plot()\n",
    "explore_data[['humidity', 'registered', 'casual', 'count']].groupby('humidity', sort=True).sum().plot()\n",
    "explore_data[['windspeed', 'registered', 'casual', 'count']].groupby('windspeed', sort=True).sum().plot()"
   ]
  },
  {
   "cell_type": "markdown",
   "metadata": {},
   "source": [
    "*****\n",
    "# Data Cleansing / Pre-Processing\n",
    "\n",
    "We begin by determining the quartiles of the variable *count*  \n",
    "We then set β = 2.25 and implement the formula _(Q3+β∗IQR,Q1−β∗IQR)_    \n",
    "2.25 is the result of multiple trials.  \n",
    "We then remove the outliers."
   ]
  },
  {
   "cell_type": "code",
   "execution_count": 5,
   "metadata": {
    "collapsed": false
   },
   "outputs": [
    {
     "name": "stdout",
     "output_type": "stream",
     "text": [
      "Q1: 42.0, Q3: 284.0, IQR: 242.0\n",
      "Outliers: Less than -502.5, Greater than 828.5\n",
      "Original Training Set (10886, 12)\n",
      "Training Set after Outlier Removal (10825, 12)\n"
     ]
    }
   ],
   "source": [
    "# Removing Outliers\n",
    "q75, q25 = np.percentile(TRAIN['count'], [75 ,25])\n",
    "iqr = q75 - q25 #the count between q75 an q25\n",
    "\n",
    "print \"Q1: {0}, Q3: {1}, IQR: {2}\".format(q25, q75, iqr)\n",
    "\n",
    "# (Q3+β∗IQR,Q1−β∗IQR)\n",
    "beta = 2.25\n",
    "lower = q25 - beta * iqr\n",
    "upper = q75 + beta * iqr\n",
    "\n",
    "print \"Outliers: Less than {0}, Greater than {1}\".format(lower, upper)\n",
    "print \"Original Training Set\", TRAIN.shape\n",
    "print \"Training Set after Outlier Removal\", TRAIN[(TRAIN['count'] > lower) & (TRAIN['count'] < upper)].shape\n",
    "\n",
    "TRAIN_OR = TRAIN[(TRAIN['count'] > lower) & (TRAIN['count'] < upper)] #TRAIN with Outliers Removed"
   ]
  },
  {
   "cell_type": "code",
   "execution_count": 6,
   "metadata": {
    "collapsed": false
   },
   "outputs": [
    {
     "data": {
      "text/html": [
       "<div>\n",
       "<table border=\"1\" class=\"dataframe\">\n",
       "  <thead>\n",
       "    <tr style=\"text-align: right;\">\n",
       "      <th></th>\n",
       "      <th>season</th>\n",
       "      <th>holiday</th>\n",
       "      <th>workingday</th>\n",
       "      <th>weather</th>\n",
       "      <th>temp</th>\n",
       "      <th>atemp</th>\n",
       "      <th>humidity</th>\n",
       "      <th>windspeed</th>\n",
       "      <th>casual</th>\n",
       "      <th>registered</th>\n",
       "      <th>count</th>\n",
       "    </tr>\n",
       "  </thead>\n",
       "  <tbody>\n",
       "    <tr>\n",
       "      <th>count</th>\n",
       "      <td>10886.000000</td>\n",
       "      <td>10886.000000</td>\n",
       "      <td>10886.000000</td>\n",
       "      <td>10886.000000</td>\n",
       "      <td>10886.00000</td>\n",
       "      <td>10886.000000</td>\n",
       "      <td>10886.000000</td>\n",
       "      <td>10886.000000</td>\n",
       "      <td>10886.000000</td>\n",
       "      <td>10886.000000</td>\n",
       "      <td>10886.000000</td>\n",
       "    </tr>\n",
       "    <tr>\n",
       "      <th>mean</th>\n",
       "      <td>2.506614</td>\n",
       "      <td>0.028569</td>\n",
       "      <td>0.680875</td>\n",
       "      <td>1.418427</td>\n",
       "      <td>20.23086</td>\n",
       "      <td>23.655084</td>\n",
       "      <td>61.886460</td>\n",
       "      <td>12.799395</td>\n",
       "      <td>36.021955</td>\n",
       "      <td>155.552177</td>\n",
       "      <td>191.574132</td>\n",
       "    </tr>\n",
       "    <tr>\n",
       "      <th>std</th>\n",
       "      <td>1.116174</td>\n",
       "      <td>0.166599</td>\n",
       "      <td>0.466159</td>\n",
       "      <td>0.633839</td>\n",
       "      <td>7.79159</td>\n",
       "      <td>8.474601</td>\n",
       "      <td>19.245033</td>\n",
       "      <td>8.164537</td>\n",
       "      <td>49.960477</td>\n",
       "      <td>151.039033</td>\n",
       "      <td>181.144454</td>\n",
       "    </tr>\n",
       "    <tr>\n",
       "      <th>min</th>\n",
       "      <td>1.000000</td>\n",
       "      <td>0.000000</td>\n",
       "      <td>0.000000</td>\n",
       "      <td>1.000000</td>\n",
       "      <td>0.82000</td>\n",
       "      <td>0.760000</td>\n",
       "      <td>0.000000</td>\n",
       "      <td>0.000000</td>\n",
       "      <td>0.000000</td>\n",
       "      <td>0.000000</td>\n",
       "      <td>1.000000</td>\n",
       "    </tr>\n",
       "    <tr>\n",
       "      <th>25%</th>\n",
       "      <td>2.000000</td>\n",
       "      <td>0.000000</td>\n",
       "      <td>0.000000</td>\n",
       "      <td>1.000000</td>\n",
       "      <td>13.94000</td>\n",
       "      <td>16.665000</td>\n",
       "      <td>47.000000</td>\n",
       "      <td>7.001500</td>\n",
       "      <td>4.000000</td>\n",
       "      <td>36.000000</td>\n",
       "      <td>42.000000</td>\n",
       "    </tr>\n",
       "    <tr>\n",
       "      <th>50%</th>\n",
       "      <td>3.000000</td>\n",
       "      <td>0.000000</td>\n",
       "      <td>1.000000</td>\n",
       "      <td>1.000000</td>\n",
       "      <td>20.50000</td>\n",
       "      <td>24.240000</td>\n",
       "      <td>62.000000</td>\n",
       "      <td>12.998000</td>\n",
       "      <td>17.000000</td>\n",
       "      <td>118.000000</td>\n",
       "      <td>145.000000</td>\n",
       "    </tr>\n",
       "    <tr>\n",
       "      <th>75%</th>\n",
       "      <td>4.000000</td>\n",
       "      <td>0.000000</td>\n",
       "      <td>1.000000</td>\n",
       "      <td>2.000000</td>\n",
       "      <td>26.24000</td>\n",
       "      <td>31.060000</td>\n",
       "      <td>77.000000</td>\n",
       "      <td>16.997900</td>\n",
       "      <td>49.000000</td>\n",
       "      <td>222.000000</td>\n",
       "      <td>284.000000</td>\n",
       "    </tr>\n",
       "    <tr>\n",
       "      <th>max</th>\n",
       "      <td>4.000000</td>\n",
       "      <td>1.000000</td>\n",
       "      <td>1.000000</td>\n",
       "      <td>4.000000</td>\n",
       "      <td>41.00000</td>\n",
       "      <td>45.455000</td>\n",
       "      <td>100.000000</td>\n",
       "      <td>56.996900</td>\n",
       "      <td>367.000000</td>\n",
       "      <td>886.000000</td>\n",
       "      <td>977.000000</td>\n",
       "    </tr>\n",
       "  </tbody>\n",
       "</table>\n",
       "</div>"
      ],
      "text/plain": [
       "             season       holiday    workingday       weather         temp  \\\n",
       "count  10886.000000  10886.000000  10886.000000  10886.000000  10886.00000   \n",
       "mean       2.506614      0.028569      0.680875      1.418427     20.23086   \n",
       "std        1.116174      0.166599      0.466159      0.633839      7.79159   \n",
       "min        1.000000      0.000000      0.000000      1.000000      0.82000   \n",
       "25%        2.000000      0.000000      0.000000      1.000000     13.94000   \n",
       "50%        3.000000      0.000000      1.000000      1.000000     20.50000   \n",
       "75%        4.000000      0.000000      1.000000      2.000000     26.24000   \n",
       "max        4.000000      1.000000      1.000000      4.000000     41.00000   \n",
       "\n",
       "              atemp      humidity     windspeed        casual    registered  \\\n",
       "count  10886.000000  10886.000000  10886.000000  10886.000000  10886.000000   \n",
       "mean      23.655084     61.886460     12.799395     36.021955    155.552177   \n",
       "std        8.474601     19.245033      8.164537     49.960477    151.039033   \n",
       "min        0.760000      0.000000      0.000000      0.000000      0.000000   \n",
       "25%       16.665000     47.000000      7.001500      4.000000     36.000000   \n",
       "50%       24.240000     62.000000     12.998000     17.000000    118.000000   \n",
       "75%       31.060000     77.000000     16.997900     49.000000    222.000000   \n",
       "max       45.455000    100.000000     56.996900    367.000000    886.000000   \n",
       "\n",
       "              count  \n",
       "count  10886.000000  \n",
       "mean     191.574132  \n",
       "std      181.144454  \n",
       "min        1.000000  \n",
       "25%       42.000000  \n",
       "50%      145.000000  \n",
       "75%      284.000000  \n",
       "max      977.000000  "
      ]
     },
     "execution_count": 6,
     "metadata": {},
     "output_type": "execute_result"
    }
   ],
   "source": [
    "#describe data\n",
    "TRAIN.describe()"
   ]
  },
  {
   "cell_type": "markdown",
   "metadata": {},
   "source": [
    "Now we can create some functions to help us with the data cleansing/formatting."
   ]
  },
  {
   "cell_type": "code",
   "execution_count": 7,
   "metadata": {
    "collapsed": true
   },
   "outputs": [],
   "source": [
    "#function peakhour\n",
    "# purpose: return indicator if row represents a peak hour.\n",
    "#          peak hours are from 7-9 and 16-20 on working days\n",
    "# row: a row from the train table\n",
    "# return: 1 or 0\n",
    "def peakhour(row):\n",
    "    if row['workingday'] == 1 and (7 <= row['hour'] <= 9 or 16 <= row['hour'] <= 20):\n",
    "        return 1\n",
    "    else:\n",
    "        return 0"
   ]
  },
  {
   "cell_type": "code",
   "execution_count": 8,
   "metadata": {
    "collapsed": true
   },
   "outputs": [],
   "source": [
    "#function year_month\n",
    "# purpose: return a number from 1 - 8 indicating the quarter for the 2 years\n",
    "# row: a row from the train table\n",
    "# return: a value from 1 - 8 (assumption is this should not return 0 unless there is an error)\n",
    "def year_month(row):\n",
    "    ret = 0\n",
    "    if row['year'] == 2011:\n",
    "        ret = 1\n",
    "    if row['year'] == 2011 and row['month'] > 3:\n",
    "        ret = 2\n",
    "    if row['year'] == 2011 and row['month'] > 6:\n",
    "        ret = 3\n",
    "    if row['year'] == 2011 and row['month'] > 9:\n",
    "        ret = 4\n",
    "    if row['year'] == 2012:\n",
    "        ret = 5\n",
    "    if row['year'] == 2012 and row['month'] > 3:\n",
    "        ret = 6\n",
    "    if row['year'] == 2012 and row['month'] > 6:\n",
    "        ret = 7\n",
    "    if row['year'] == 2012 and row['month'] > 9:\n",
    "        ret = 8\n",
    "    return ret"
   ]
  },
  {
   "cell_type": "markdown",
   "metadata": {},
   "source": [
    "Breaking the features into binary representation is often useful\n",
    "\n",
    "For example, the weather variable has values 1, 2, 3, and 4. Each represents a type of weather. \n",
    "This can be better represented as binary variables. In this case, we create a variable *weather1* and set it to 1 if the weather variable is 1, and 0 otherwise.\n",
    "This is like saying \"Is it sunny today?\" and answering \"yes\"(1) or \"no\"(0).\n",
    "\n",
    "Another example is continuous variables. Instead of working with the many different temperatures we will likely get better results from grouping temperatures in ranges, then creating a binary variable for each of these ranges.\n",
    "\n"
   ]
  },
  {
   "cell_type": "code",
   "execution_count": 9,
   "metadata": {
    "collapsed": true
   },
   "outputs": [],
   "source": [
    "#function feature_extraction\n",
    "# purpose: extract variables from continuous to discrete, or binary\n",
    "# df: the dataframe to work on\n",
    "# return: the modified dataframe\n",
    "\n",
    "def feature_extraction(df):\n",
    "    # Copy the DataFrame (TODO)\n",
    "    dataframe = df.copy(deep=True)\n",
    "    \n",
    "    #Engineer Features from Data\n",
    "    dataframe.index = pd.to_datetime(dataframe['datetime']) # creating an index from the timestamp\n",
    "    \n",
    "    #Break Date Time into multiple features: year, month, day, hour etc\n",
    "\n",
    "    dataframe['year']= dataframe.index.year # year\n",
    "    dataframe['month'] = dataframe.index.month # month\n",
    "    dataframe['hour'] = dataframe.index.hour # hours\n",
    "    dataframe['day'] = dataframe.index.dayofweek # day of week (Monday=0, Sunday=6)\n",
    "    dataframe['dayofyear'] = dataframe.index.dayofyear\n",
    "    dataframe['week'] = dataframe.index.week\n",
    "    dataframe['quarter'] = dataframe.index.quarter \n",
    "\n",
    "    # Weather\n",
    "    dataframe['weather1'] = dataframe['weather'].map(lambda x: 1 if x == 1 else 0)\n",
    "    dataframe['weather2'] = dataframe['weather'].map(lambda x: 1 if x == 2 else 0)\n",
    "    dataframe['weather3'] = dataframe['weather'].map(lambda x: 1 if x == 3 else 0)\n",
    "    dataframe['weather4'] = dataframe['weather'].map(lambda x: 1 if x == 4 else 0)\n",
    "\n",
    "    # Season\n",
    "    dataframe['season1'] = dataframe['season'].map(lambda x: 1 if x == 1 else 0)\n",
    "    dataframe['season2'] = dataframe['season'].map(lambda x: 1 if x == 2 else 0)\n",
    "    dataframe['season3'] = dataframe['season'].map(lambda x: 1 if x == 3 else 0)\n",
    "    dataframe['season4'] = dataframe['season'].map(lambda x: 1 if x == 4 else 0)\n",
    "    \n",
    "    # Temperature (espressed as discrete ranges)\n",
    "    dataframe['temp1'] = dataframe['temp'].map(lambda x: 1 if x <= 12 else 0)\n",
    "    dataframe['temp2'] = dataframe['temp'].map(lambda x: 1 if 13 <= x <= 25 else 0)\n",
    "    dataframe['temp3'] = dataframe['temp'].map(lambda x: 1 if 26 <= x <= 33 else 0)\n",
    "    dataframe['temp4'] = dataframe['temp'].map(lambda x: 1 if x >= 34  else 0)\n",
    "    \n",
    "    # Humidity (expressed as discrete ranges)\n",
    "    dataframe['humidity1'] = dataframe['humidity'].map(lambda x: 1 if x <= 25 else 0)\n",
    "    dataframe['humidity2'] = dataframe['humidity'].map(lambda x: 1 if 26 <= x <= 50 else 0)\n",
    "    dataframe['humidity3'] = dataframe['humidity'].map(lambda x: 1 if 51 <= x <= 75 else 0)\n",
    "    dataframe['humidity4'] = dataframe['humidity'].map(lambda x: 1 if x >= 76  else 0)\n",
    "\n",
    "    # Sunday (Registered: Least # of Bikes Rented on Sundays)\n",
    "    dataframe['sunday'] = dataframe['day'].map(lambda x: 1 if x == 6 else 0)\n",
    "     # Sunday (Registered: Highest # of Bikes Rented on Sundays)\n",
    "    dataframe['saturday'] = dataframe['day'].map(lambda x: 1 if x == 5 else 0)\n",
    "    # Weekend\n",
    "    dataframe['weekend'] = dataframe['day'].map(lambda x: 1 if x == 5 or x == 6 else 0)\n",
    "\n",
    "    # Bucket Hours of Day\n",
    "    #labels = ['0-3', '4-7', '8-11', '12-15', '16-19', '20-23']\n",
    "    #lens['age_group'] = pd.cut(dataframe.hour, range(0, 23, 6), right=False, labels=labels)\n",
    "    dataframe['hour_0_3'] = dataframe['hour'].map(lambda x: 1 if 0 <= x <= 3 else 0)\n",
    "    dataframe['hour_4_7'] = dataframe['hour'].map(lambda x: 1 if 4 <= x <= 7 else 0)\n",
    "    dataframe['hour_8_11'] = dataframe['hour'].map(lambda x: 1 if 8 <= x <= 11 else 0)\n",
    "    dataframe['hour_12_15'] = dataframe['hour'].map(lambda x: 1 if 12 <= x <= 15 else 0)\n",
    "    dataframe['hour_16_19'] = dataframe['hour'].map(lambda x: 1 if 16 <= x <= 19 else 0)\n",
    "    dataframe['hour_20_23'] = dataframe['hour'].map(lambda x: 1 if 20 <= x <= 23 else 0)\n",
    "\n",
    "    # Peak Hours (Morning & Eve) - Registered\n",
    "    dataframe['peakhours'] = dataframe.apply(peakhour, axis=1) #peakhour previously defined function\n",
    "    # Peak Hours - Rush Hour for Casual\n",
    "    dataframe['peakhours_cas'] = dataframe['hour'].map(lambda x: 1 if 12 <= x <= 18 else 0)\n",
    "    \n",
    "    # Year/Month\n",
    "    dataframe['year_month'] = dataframe.apply(year_month, axis=1) #year_month previously defined function\n",
    "    \n",
    "    # Year\n",
    "    dataframe['year_2011'] = dataframe['year'].map(lambda x: 1 if x == 2011 else 0)\n",
    "    dataframe['year_2012'] = dataframe['year'].map(lambda x: 1 if x == 2012 else 0)\n",
    "\n",
    "    return dataframe"
   ]
  },
  {
   "cell_type": "markdown",
   "metadata": {},
   "source": [
    "Our datasets now have a large number of variables. We will define a function to return the list of variables we are actually interested in."
   ]
  },
  {
   "cell_type": "code",
   "execution_count": 10,
   "metadata": {
    "collapsed": true
   },
   "outputs": [],
   "source": [
    "#function feature_selection\n",
    "# purpose: select features from data\n",
    "# returns three arrays of strings: features, features_r and features_c\n",
    "def feature_selection():\n",
    "    \n",
    "    # Separate Features for Count, Registered & Casual\n",
    "    features = ['season', 'holiday', 'workingday', 'weather', 'temp', 'atemp', 'humidity', 'windspeed',\n",
    "                'month', 'hour', 'day', 'dayofyear', 'week', 'quarter',\n",
    "                'year_2011', 'year_2012', 'hour_16_19']\n",
    "\n",
    "    features_r = ['season', 'workingday',\n",
    "                  'temp', 'atemp', 'windspeed', 'humidity',\n",
    "                  'weather1', 'weather2', 'weather3', 'weather4',\n",
    "                  'temp1', 'temp2', 'temp3', 'temp4',\n",
    "                'month', 'hour', 'day', 'dayofyear',\n",
    "                'hour_0_3', 'hour_4_7', 'hour_8_11', 'hour_12_15', 'hour_16_19', 'hour_20_23',\n",
    "                'year', 'year_month', 'sunday', 'peakhours']\n",
    "\n",
    "    features_c = ['season', 'holiday', \n",
    "                  'temp', 'atemp', 'windspeed', 'humidity',\n",
    "                  'weather1', 'weather2', 'weather3', 'weather4',\n",
    "                  'temp1', 'temp2', 'temp3', 'temp4',\n",
    "                'hour_0_3', 'hour_4_7', 'hour_8_11', 'hour_12_15', 'hour_16_19', 'hour_20_23',\n",
    "                'month', 'hour', 'peakhours_cas', 'day', 'dayofyear',\n",
    "                'year', 'year_month', 'weekend']\n",
    "\n",
    "    return (features, features_r, features_c)"
   ]
  },
  {
   "cell_type": "markdown",
   "metadata": {},
   "source": [
    "---\n",
    "Now a couple of functions for the purpose of Kaggle Evaluations:"
   ]
  },
  {
   "cell_type": "code",
   "execution_count": 11,
   "metadata": {
    "collapsed": true
   },
   "outputs": [],
   "source": [
    "def RMSLE_score(Y_pred, Y_act):\n",
    "    a = (np.log(Y_pred+1)-np.log(Y_act+1))\n",
    "    b = 1./len(Y_pred)\n",
    "    score = (b*sum(a**(2)))**(0.5)\n",
    "    return score\n",
    "\n",
    "def RMSE_score(log_Y_pred, log_Y_act):\n",
    "    n = len(log_Y_pred)\n",
    "    return np.sqrt(1/n*(np.sum((log_Y_pred-log_Y_act)**2)))\n",
    "\n",
    "def inv_log(a):\n",
    "    return np.exp(a)-1"
   ]
  },
  {
   "cell_type": "code",
   "execution_count": 12,
   "metadata": {
    "collapsed": true
   },
   "outputs": [],
   "source": [
    "#function generate_kaggle_submission\n",
    "# purpose - generate file that meets requirements to submit to Kaggle.  Saves files to /submissions/f_name\n",
    "# pred = predictions\n",
    "# f_name = file name\n",
    "def generate_kaggle_submission(pred, f_name):\n",
    "    print \"\\n\\nGenerating Kaggle Submission File: %s\" % (f_name)\n",
    "    print \"Shape of Kaggle Test Set: \", KAGGLE_TEST.shape\n",
    "    print \"Shape of Kaggle Test Set Prediction: \", pred.shape\n",
    "    #print pred\n",
    "    pred = np.rint(pred)\n",
    "    pred = np.where(pred < 0, 0, pred)\n",
    "    df_pred = pd.DataFrame(pred, columns=['count'])\n",
    "\n",
    "    df_dt = pd.DataFrame(KAGGLE_TEST['datetime'])\n",
    "    df_dt.reset_index(drop=True, inplace=True)\n",
    "\n",
    "    #print df_dt.head()\n",
    "    #print df_pred.head()\n",
    "\n",
    "    output = pd.concat([df_dt, df_pred], axis=1)\n",
    "    print \"Shape of Submission Dataframe: \", output.shape\n",
    "    #print output.head()\n",
    "\n",
    "    file = [os.getcwd(),'/submissions/',f_name]\n",
    "    output.to_csv(\"\".join(file), index=False)"
   ]
  },
  {
   "cell_type": "markdown",
   "metadata": {
    "collapsed": true
   },
   "source": [
    "# Modeling\n",
    "\n",
    "## Setup Data with Feature Extraction and reduce to Feature Sets"
   ]
  },
  {
   "cell_type": "code",
   "execution_count": 88,
   "metadata": {
    "collapsed": true
   },
   "outputs": [],
   "source": [
    "#Data Setup\n",
    "\n",
    "#Create datasets with feature extraction applied \n",
    "TRAIN_FX = feature_extraction(TRAIN_OR) #TRAIN_OR is the training dataset with Outliers Removed\n",
    "KAGGLE_TEST_FX = feature_extraction(KAGGLE_TEST)\n",
    "\n",
    "#Get the feature sets\n",
    "(features, features_r, features_c) = feature_selection()\n",
    "Y_COUNT = np.log(TRAIN_FX['count'] + 1)\n",
    "\n",
    "### ALL USERS\n",
    "#reduce to feature set\n",
    "TRAIN_FX_FS = TRAIN_FX[features]\n",
    "KAGGLE_TEST_FX_FS = KAGGLE_TEST_FX[features]\n",
    "\n",
    "#create labels\n",
    "Y = np.log(TRAIN_FX['count'] + 1)\n",
    "X = TRAIN_FX_FS.values\n",
    "X1 = KAGGLE_TEST_FX_FS.values\n",
    "\n",
    "### REGISTERED USERS\n",
    "#reduce to feature set\n",
    "TRAIN_FX_FS_R = TRAIN_FX[features_r]\n",
    "KAGGLE_TEST_FX_FS_R = KAGGLE_TEST_FX[features_r]\n",
    "\n",
    "#create labels\n",
    "Y_R = TRAIN_FX['registered']\n",
    "X_R = TRAIN_FX_FS_R.values\n",
    "X1_R = KAGGLE_TEST_FX_FS_R.values\n",
    "\n",
    "### CASUAL USERS\n",
    "#reduce to feature set\n",
    "TRAIN_FX_FS_C = TRAIN_FX[features_c]\n",
    "KAGGLE_TEST_FX_FS_C = KAGGLE_TEST_FX[features_c]\n",
    "\n",
    "#create labels\n",
    "Y_C = TRAIN_FX['casual']\n",
    "X_C = TRAIN_FX_FS_C.values\n",
    "X1_C = KAGGLE_TEST_FX_FS_C.values"
   ]
  },
  {
   "cell_type": "markdown",
   "metadata": {},
   "source": [
    "##Split Training Data into Test, Dev and Mini training"
   ]
  },
  {
   "cell_type": "code",
   "execution_count": 89,
   "metadata": {
    "collapsed": false
   },
   "outputs": [
    {
     "name": "stdout",
     "output_type": "stream",
     "text": [
      "train data shape:  (7000, 17)\n",
      "train label shape: (7000,)\n",
      "dev data shape:  (2000, 17)\n",
      "dev label shape: (2000,)\n",
      "test data shape:  (1825, 17)\n",
      "test labels shape: (1825,)\n"
     ]
    }
   ],
   "source": [
    "#working with only the full dataset at this point.\n",
    "test_data, test_labels = X[9000:], Y[9000:]\n",
    "dev_data, dev_labels = X[7000:9000], Y[7000:9000]\n",
    "train_data, train_labels = X[:7000], Y[:7000]\n",
    "print 'train data shape: ', train_data.shape\n",
    "print 'train label shape:', train_labels.shape\n",
    "print 'dev data shape: ', dev_data.shape\n",
    "print 'dev label shape:', dev_labels.shape\n",
    "print 'test data shape: ', test_data.shape\n",
    "print 'test labels shape:', test_labels.shape"
   ]
  },
  {
   "cell_type": "markdown",
   "metadata": {
    "collapsed": true
   },
   "source": [
    "Let's define a function so we have consistent data output:"
   ]
  },
  {
   "cell_type": "code",
   "execution_count": 53,
   "metadata": {
    "collapsed": false
   },
   "outputs": [],
   "source": [
    "#function output_model_summary\n",
    "# purpose: output the model results\n",
    "# estimator: the estimator\n",
    "# dev: the dev data set\n",
    "# test: the test data set\n",
    "def output_model_summary(estimator, dev_data, dev_labels, test_data=None, test_labels=None):\n",
    "    #Prints Model Summary\n",
    "    # The coefficients\n",
    "    if 'coef_' in dir(estimator):\n",
    "        print 'Coefficients: '\n",
    "        print estimator.coef_\n",
    "    \n",
    "    if 'intercept_' in dir(estimator):\n",
    "        print '\\nIntercept: ', estimator.intercept_\n",
    "        \n",
    "    # The mean square error\n",
    "    print (\"Residual sum of squares: %.2f\" % np.mean((np.rint(estimator.predict(dev_data)) - dev_labels) ** 2))\n",
    "    \n",
    "    # Explained variance score: 1 is perfect prediction\n",
    "    print('[DEV]  R^2 - Variance score: %.2f' % estimator.score(dev_data, dev_labels))\n",
    "    \n",
    "    if test_data is not None:\n",
    "        print('[TEST] R^2 - Variance score: %.2f' % estimator.score(test_data, test_labels))\n",
    "    print \"\\n\"\n",
    "    \n"
   ]
  },
  {
   "cell_type": "markdown",
   "metadata": {},
   "source": [
    "###Now let's work on a baseline Kaggle submission:\n",
    "\n",
    "Our original baseline used a Linear Model without any polynomial features.\n",
    "\n",
    "Here, we show the Linear Model the engineerd features we developed over the course of this project."
   ]
  },
  {
   "cell_type": "code",
   "execution_count": 47,
   "metadata": {
    "collapsed": false
   },
   "outputs": [
    {
     "name": "stdout",
     "output_type": "stream",
     "text": [
      "Coefficients: \n",
      "[ 0.02190552  0.04121215  0.00783243 -0.03933923 -0.01341353  0.05804505\n",
      " -0.01078207  0.00366856  0.00647047  0.08786816  0.02806844  0.00262821\n",
      " -0.00921487  0.02190552 -0.28385695  0.28385695  0.53250213]\n",
      "\n",
      "Intercept:  2.65688359203\n",
      "\n",
      "Residual sum of squares: 1.16\n",
      "\n",
      "[DEV]  R^2 - Variance score: 0.43\n",
      "[TEST] R^2 - Variance score: 0.44\n"
     ]
    }
   ],
   "source": [
    "# Ordinary Least Squares (Baseline)\n",
    "# Create linear regression object\n",
    "ols = linear_model.LinearRegression()\n",
    "\n",
    "# Train the model using the training sets\n",
    "ols.fit(train_data, train_labels)\n",
    "\n",
    "# Model Summary\n",
    "output_model_summary(ols, dev_data, dev_labels, test_data, test_labels)"
   ]
  },
  {
   "cell_type": "code",
   "execution_count": 41,
   "metadata": {
    "collapsed": false
   },
   "outputs": [
    {
     "name": "stdout",
     "output_type": "stream",
     "text": [
      "\n",
      "\n",
      " Generating Kaggle Submission File: baseline.csv\n",
      "Shape of Kaggle Test Set:  (6493, 9)\n",
      "Shape of Kaggle Test Set Prediction:  (6493,)\n",
      "Shape of Submission Dataframe:  (6493, 2)\n"
     ]
    }
   ],
   "source": [
    "# Generate Kaggle Baseline\n",
    "# Train the model using the entire data set\n",
    "ols.fit(X, Y)\n",
    "pred = ols.predict(X1)\n",
    "generate_kaggle_submission(pred, \"baseline.csv\")"
   ]
  },
  {
   "cell_type": "markdown",
   "metadata": {},
   "source": [
    "The submission as generated here puts us in absolute last place (3252). We can only do better from here!"
   ]
  },
  {
   "cell_type": "markdown",
   "metadata": {},
   "source": [
    "***\n",
    "#Testing Various Models"
   ]
  },
  {
   "cell_type": "markdown",
   "metadata": {},
   "source": [
    "##i) Linear Regressions\n",
    "\n",
    "###a) Ridge Regression"
   ]
  },
  {
   "cell_type": "code",
   "execution_count": 50,
   "metadata": {
    "collapsed": false
   },
   "outputs": [
    {
     "name": "stdout",
     "output_type": "stream",
     "text": [
      "Coefficients: \n",
      "[ 0.02139128  0.03521708  0.00581827 -0.03850342 -0.01325695  0.05790358\n",
      " -0.01083587  0.00367435  0.00608189  0.08808855  0.02764169  0.00264144\n",
      " -0.00921375  0.02139128 -0.28069254  0.28069254  0.51964463]\n",
      "\n",
      "Intercept:  2.6622616781\n",
      "\n",
      "Residual sum of squares: 1.15\n",
      "\n",
      "[DEV]  R^2 - Variance score: 0.44\n",
      "[TEST] R^2 - Variance score: 0.44\n",
      "Coefficients: \n",
      "[ 0.02139128  0.03521708  0.00581827 -0.03850342 -0.01325695  0.05790358\n",
      " -0.01083587  0.00367435  0.00608189  0.08808855  0.02764169  0.00264144\n",
      " -0.00921375  0.02139128 -0.28069254  0.28069254  0.51964463]\n",
      "\n",
      "Intercept:  2.6622616781\n",
      "\n",
      "Residual sum of squares: 1.15\n",
      "\n",
      "[DEV]  R^2 - Variance score: 0.44\n"
     ]
    }
   ],
   "source": [
    "# Ridge Regression\n",
    "clf = linear_model.RidgeCV(alphas=[0.1, 0.2, 0.5, 1.0, 10.0, 20.0, 50.0, 100.0])\n",
    "\n",
    "# Train the model using the training sets\n",
    "clf.fit(train_data, train_labels)\n",
    "R_coef = clf.coef_\n",
    "R_score = clf.score(dev_data, dev_labels)\n",
    "\n",
    "# Model Summary\n",
    "output_model_summary(clf, dev_data, dev_labels, test_data, test_labels)\n"
   ]
  },
  {
   "cell_type": "code",
   "execution_count": 43,
   "metadata": {
    "collapsed": false
   },
   "outputs": [
    {
     "name": "stdout",
     "output_type": "stream",
     "text": [
      "\n",
      "\n",
      " Generating Kaggle Submission File: ridge_regression.csv\n",
      "Shape of Kaggle Test Set:  (6493, 9)\n",
      "Shape of Kaggle Test Set Prediction:  (6493,)\n",
      "Shape of Submission Dataframe:  (6493, 2)\n"
     ]
    }
   ],
   "source": [
    "# Train the model using the entire data set\n",
    "ols.fit(X, Y)\n",
    "pred = clf.predict(X1)\n",
    "generate_kaggle_submission(pred, \"ridge_regression.csv\")"
   ]
  },
  {
   "cell_type": "markdown",
   "metadata": {},
   "source": [
    "We now place at 3210.\n",
    "\n",
    "### b) Lasso and ElasticNet\n",
    "\n",
    "LASSO stand for Least Absolute Shrinkage and Selection Operator, and is a regression method involving penalizing the absolute size of the regression coefficients.\n",
    "\n",
    "Elastic Net regulization is a regression that linearly combines the L1 and L2 penalties of the lasso and ridge methods.\n",
    "\n",
    "We are using alpha and l1_ration values from previous tests."
   ]
  },
  {
   "cell_type": "code",
   "execution_count": 93,
   "metadata": {
    "collapsed": false
   },
   "outputs": [
    {
     "name": "stdout",
     "output_type": "stream",
     "text": [
      "Coefficients: \n",
      "[ 0.0243763   0.         -0.         -0.03576719 -0.01065946  0.05548988\n",
      " -0.01088068  0.00349543  0.          0.08797675  0.02586824  0.00292434\n",
      " -0.00906166  0.008253   -0.55982186  0.          0.5236899 ]\n",
      "\n",
      "Intercept:  2.96942652751\n",
      "\n",
      "Residual sum of squares: 1.15\n",
      "\n",
      "[DEV]  R^2 - Variance score: 0.44\n",
      "[TEST] R^2 - Variance score: 0.44\n"
     ]
    }
   ],
   "source": [
    "#Lasso\n",
    "clf = linear_model.Lasso(alpha=0.001)\n",
    "\n",
    "# Train the model using the training sets\n",
    "clf.fit(train_data, train_labels)\n",
    "L_coef = clf.coef_\n",
    "L_score = clf.score(dev_data, dev_labels)\n",
    "\n",
    "# Model Summary\n",
    "output_model_summary(clf, dev_data, dev_labels, test_data, test_labels)"
   ]
  },
  {
   "cell_type": "code",
   "execution_count": 96,
   "metadata": {
    "collapsed": false
   },
   "outputs": [
    {
     "name": "stdout",
     "output_type": "stream",
     "text": [
      "Coefficients: \n",
      "[ 0.         -0.         -0.         -0.          0.          0.04486463\n",
      " -0.01237844  0.00246226  0.          0.09128074  0.01601421  0.00267115\n",
      " -0.00692181  0.         -0.36520802  0.          0.28842475]\n",
      "\n",
      "Intercept:  3.00206860428\n",
      "\n",
      "Residual sum of squares: 1.05\n",
      "\n",
      "[DEV]  R^2 - Variance score: 0.47\n",
      "[TEST] R^2 - Variance score: 0.45\n"
     ]
    }
   ],
   "source": [
    "# ElasticNet\n",
    "clf = linear_model.ElasticNet(alpha=0.001, l1_ratio=40)\n",
    "\n",
    "# Train the model using the training sets\n",
    "clf.fit(train_data, train_labels)\n",
    "E_coef = clf.coef_\n",
    "E_score = clf.score(dev_data, dev_labels)\n",
    "\n",
    "# Model Summary\n",
    "output_model_summary(clf, dev_data, dev_labels, test_data, test_labels)\n"
   ]
  },
  {
   "cell_type": "markdown",
   "metadata": {},
   "source": [
    "Even without submitting to Kaggle, we can see our score is likely not to improve by much if at all.\n",
    "\n",
    "### c) Comparing the models\n",
    "\n",
    "Let's use a graph to see how these linear regressions compare:"
   ]
  },
  {
   "cell_type": "code",
   "execution_count": 102,
   "metadata": {
    "collapsed": false
   },
   "outputs": [
    {
     "data": {
      "image/png": "[encoded data removed]",
      "text/plain": [
       "<matplotlib.figure.Figure at 0x7f9088625e90>"
      ]
     },
     "metadata": {},
     "output_type": "display_data"
    },
    {
     "name": "stdout",
     "output_type": "stream",
     "text": [
      "      Ridge R^2: 0.435066\n",
      "      Lasso R^2: 0.436226\n",
      "Elastic Net R^2: 0.466779\n"
     ]
    }
   ],
   "source": [
    "#plot the coefficients\n",
    "plt.plot(R_coef, label='Ridge coefficients')\n",
    "plt.plot(E_coef, label='Elastic net coefficients')\n",
    "plt.plot(L_coef, label='Lasso coefficients')\n",
    "plt.legend(loc='best')\n",
    "plt.title(\"Comparison of Coefficients\")\n",
    "plt.show()\n",
    "\n",
    "print (\"      Ridge R^2: %f\\n      Lasso R^2: %f\\nElastic Net R^2: %f\"\n",
    "          % (R_score, L_score, E_score))"
   ]
  },
  {
   "cell_type": "markdown",
   "metadata": {},
   "source": [
    "##ii) Polynomial Features\n",
    "\n",
    "Polynomial Features genereates a new feature matrix consisting of all polynomial combinations of the features with degree less than or equal to the specified degree.  \n",
    "For example, if an input sample is two dimensional and of the form [a, b], the degree-2 polynomial features are [1, a, b, a^2, ab, b^2].  \n",
    "(http://scikit-learn.org/stable/modules/generated/sklearn.preprocessing.PolynomialFeatures.html)"
   ]
  },
  {
   "cell_type": "code",
   "execution_count": 48,
   "metadata": {
    "collapsed": false
   },
   "outputs": [
    {
     "name": "stdout",
     "output_type": "stream",
     "text": [
      "train data shape:  (7000, 171)\n",
      "dev data shape:  (2000, 171)\n",
      "test data shape:  (1825, 171)\n",
      "\n",
      "\n",
      "Coefficients: \n",
      "[  0.00000000e+00   1.01790258e-01  -3.76440284e-01  -4.04246987e-01\n",
      "   5.24034218e-01   1.57246886e-01  -8.37106747e-02   1.05604347e-02\n",
      "   2.19806424e-03   1.96059560e-01   2.30595671e-01  -1.49391882e-01\n",
      "  -3.93717716e-02   3.84847167e-02   1.01790258e-01  -1.65849179e-01\n",
      "   1.65849179e-01  -2.13905889e-01  -1.59427531e-01   3.36529570e-01\n",
      "   2.92116956e-02   7.26934359e-02   7.10369977e-04  -4.45059558e-03\n",
      "  -2.23841684e-03  -1.25535174e-03   3.58149730e-01  -2.35395785e-03\n",
      "   1.47105674e-02  -1.50338308e-02   5.85242471e-02  -1.59427531e-01\n",
      "   6.30608916e-02   3.87293668e-02  -1.72096288e-03  -3.76440284e-01\n",
      "   0.00000000e+00  -2.81434181e-01   1.49721316e-02  -3.28169597e-03\n",
      "   2.84288347e-03   4.94049532e-03  -1.04312318e+00   1.23957818e-02\n",
      "   1.49547985e-01   6.52221743e-02  -2.67747814e-01   3.36529570e-01\n",
      "  -9.22925307e-02  -2.84147753e-01  -1.32391531e-01  -4.04246987e-01\n",
      "  -1.73988710e-01  -1.70416519e-02  -9.03833082e-03   8.42511960e-03\n",
      "  -2.04082799e-03  -1.03560560e-01   2.95096328e-02   2.22794065e-01\n",
      "   4.41080278e-02  -2.93821588e-01   2.92116956e-02  -1.43169856e-01\n",
      "  -2.61077132e-01   1.98738842e-01  -2.06561780e-01   1.13503582e-02\n",
      "  -7.87977268e-03   1.09868992e-03  -4.81481539e-03   3.41137111e-02\n",
      "  -1.12395064e-02  -2.53390651e-02  -2.04054203e-03  -3.54743931e-03\n",
      "   7.26934359e-02   2.84128560e-01   2.39905658e-01   8.07869245e-02\n",
      "  -1.63443583e-02   2.42564662e-02  -1.38538360e-03   2.51394148e-03\n",
      "  -9.93889114e-02  -9.13078081e-04  -3.57919711e-03   1.94269833e-03\n",
      "   9.31856812e-03   7.10369977e-04   8.04979357e-02   7.67489503e-02\n",
      "   9.67973013e-03  -9.40574795e-03   1.14925161e-03  -1.73902006e-03\n",
      "   8.36720403e-02   7.87228932e-04   4.89622894e-03  -1.81607881e-03\n",
      "  -6.28336858e-03  -4.45059558e-03  -4.31465574e-02  -4.05641172e-02\n",
      "  -6.15774057e-03  -1.79991872e-04  -8.89962603e-05  -6.02543711e-03\n",
      "   4.35767965e-04  -3.75715273e-04   2.42571337e-04  -1.13505538e-04\n",
      "  -2.23841684e-03   4.63667067e-03   5.92376399e-03  -2.91828364e-03\n",
      "  -1.57731968e-04   7.63698568e-03   4.22159083e-05  -8.20050713e-05\n",
      "  -1.24177388e-04  -6.87015755e-04  -1.25535174e-03  -1.06138415e-03\n",
      "   3.25944838e-03  -2.40921594e-03  -4.39242168e-01   3.10492722e-03\n",
      "   2.01671037e-02   5.62222876e-03   1.13594338e-01   3.58149730e-01\n",
      "   1.64116285e-01   3.19432751e-02  -9.09926131e-02  -1.19295224e-02\n",
      "  -1.59452023e-03   7.22896275e-05  -8.99804162e-04  -2.35395785e-03\n",
      "   1.10264863e-01   1.20330808e-01   6.35595032e-02   1.22333230e-02\n",
      "   1.94933714e-02  -7.45509982e-02   1.47105674e-02  -8.06528916e-02\n",
      "  -6.87389904e-02  -4.33532758e-02  -9.47590042e-03   6.40004769e-02\n",
      "  -1.50338308e-02  -1.15253048e-02  -2.78464668e-02   2.42397443e-03\n",
      "   1.24482015e-03   5.85242471e-02  -1.45048292e-02   5.29895460e-02\n",
      "   2.79160336e-03  -1.59427531e-01   6.30608916e-02   3.87293668e-02\n",
      "  -1.72096288e-03  -1.65849179e-01   0.00000000e+00  -9.68907671e-02\n",
      "   1.65849179e-01  -1.17015122e-01  -2.13905889e-01]\n",
      "\n",
      "Intercept:  0.918664620992\n",
      "\n",
      "Residual sum of squares: 1.15\n",
      "\n",
      "[DEV]  R^2 - Variance score: 0.43\n",
      "[TEST] R^2 - Variance score: 0.57\n"
     ]
    }
   ],
   "source": [
    "# Polynomial Features\n",
    "poly = preprocessing.PolynomialFeatures(2)\n",
    "test_data_poly = poly.fit_transform(test_data)\n",
    "dev_data_poly = poly.transform(dev_data) \n",
    "train_data_poly = poly.transform(train_data) \n",
    "\n",
    "print 'train data shape: ', train_data_poly.shape\n",
    "print 'dev data shape: ', dev_data_poly.shape\n",
    "print 'test data shape: ', test_data_poly.shape\n",
    "print '\\n'\n",
    "\n",
    "# Train RidgeCV model using the training sets \n",
    "clf = linear_model.RidgeCV(alphas=[0.1, 0.2, 0.5, 1.0, 10.0, 20.0, 50.0, 100.0])\n",
    "clf.fit(train_data_poly, train_labels)\n",
    "\n",
    "# Model Summary\n",
    "output_model_summary(clf, dev_data_poly, dev_labels, test_data_poly, test_labels)\n"
   ]
  },
  {
   "cell_type": "code",
   "execution_count": 21,
   "metadata": {
    "collapsed": false
   },
   "outputs": [
    {
     "name": "stdout",
     "output_type": "stream",
     "text": [
      "\n",
      "\n",
      "Generating Kaggle Submission File: submission_poly_elastic.csv\n",
      "Shape of Kaggle Test Set:  (6493, 9)\n",
      "Shape of Kaggle Test Set Prediction:  (6493,)\n",
      "Shape of Submission Dataframe:  (6493, 2)\n"
     ]
    }
   ],
   "source": [
    "# Kaggle Submission with Polynomial features\n",
    "X1_poly = poly.transform(X1)\n",
    "X_poly =  poly.transform(X)\n",
    "clf.fit(X_poly, Y)\n",
    "pred = clf.predict(X1_poly)\n",
    "generate_kaggle_submission(pred, \"submission_poly_elastic.csv\")"
   ]
  },
  {
   "cell_type": "markdown",
   "metadata": {},
   "source": [
    "We are now at 3210.  We still have a ways to go, but we still have many more ideas."
   ]
  },
  {
   "cell_type": "markdown",
   "metadata": {},
   "source": [
    "##iii) SVR\n",
    "\n",
    "Support Vector Regression performs classification by finding the hyperplane that maximizes the margin between classes. (http://www.saedsayad.com/support_vector_machine.htm)\n",
    "\n",
    "One of the advantages of SVR is it can be used to avoid difficulties of using linear functions in high dimensional feature space. The loss function is used to penalize errors greater than the threshold."
   ]
  },
  {
   "cell_type": "code",
   "execution_count": 103,
   "metadata": {
    "collapsed": false
   },
   "outputs": [
    {
     "name": "stdout",
     "output_type": "stream",
     "text": [
      "Coefficients: \n",
      "[[-0.0108273  -0.05388881  0.01091433 -0.03555397  0.02008015 -0.06202439\n",
      "   0.01414295 -0.00518587  0.00107309 -0.06944035 -0.0235859  -0.00375977\n",
      "   0.01129483 -0.0108273   0.28990512 -0.28990512 -0.5225867 ]]\n",
      "\n",
      "Intercept:  [ 3.10021306]\n",
      "\n",
      "Residual sum of squares: 1.26\n",
      "\n",
      "[DEV]  R^2 - Variance score: 0.39\n",
      "[TEST] R^2 - Variance score: 0.40\n"
     ]
    }
   ],
   "source": [
    "svr = svm.SVR(kernel='linear')\n",
    "\n",
    "# Train the model using the training sets\n",
    "svr.fit(train_data, np.squeeze(train_labels))\n",
    "\n",
    "# Model Summary\n",
    "output_model_summary(svr, dev_data, dev_labels, test_data, test_labels)"
   ]
  },
  {
   "cell_type": "code",
   "execution_count": 107,
   "metadata": {
    "collapsed": false
   },
   "outputs": [
    {
     "name": "stdout",
     "output_type": "stream",
     "text": [
      "\n",
      "\n",
      "Generating Kaggle Submission File: submission_svr_linear.csv\n",
      "Shape of Kaggle Test Set:  (6493, 9)\n",
      "Shape of Kaggle Test Set Prediction:  (6493,)\n",
      "Shape of Submission Dataframe:  (6493, 2)\n"
     ]
    }
   ],
   "source": [
    "# Kaggle Submission with SVR Linear\n",
    "svr.fit(X, np.squeeze(Y))\n",
    "pred = clf.predict(X1)\n",
    "generate_kaggle_submission(pred, \"submission_svr_linear.csv\")"
   ]
  },
  {
   "cell_type": "markdown",
   "metadata": {},
   "source": [
    "Well, that took a while to run, but unfortunately we have no improvement. We are still at 3208."
   ]
  },
  {
   "cell_type": "markdown",
   "metadata": {},
   "source": [
    "##iv) Side-Tracks\n",
    "\n",
    "Before we go any farther, let's look at some different things we can do to help improve our score.\n",
    "\n",
    "### a) Cross-Validation\n",
    "\n",
    "With Cross Validation, we can shuffle split the data any number of times and specify how large the test size should be.  This means we can see how the model performs with multiple variations of the training and development data, and the data also does not need to be sliced in whole continuous chunck, as we use an index for identifying which data rows are used.\n"
   ]
  },
  {
   "cell_type": "code",
   "execution_count": 54,
   "metadata": {
    "collapsed": false
   },
   "outputs": [
    {
     "name": "stdout",
     "output_type": "stream",
     "text": [
      "\n",
      " [Iteration:1] Num of Training: 8118,  Num of Test: 2707\n",
      "Coefficients: \n",
      "[  3.03522237e+11   5.70800469e-02   1.71380988e-02  -2.79625596e-02\n",
      "   1.29556297e-02   2.90992329e-02  -1.23918075e-02   3.13799885e-03\n",
      "   2.23096339e-02   8.85957299e-02   2.69261601e-02   2.64171258e-03\n",
      "  -8.09110464e-03  -3.03522237e+11   1.04111053e+08   1.04111054e+08\n",
      "   5.26041382e-01]\n",
      "\n",
      "Intercept:  -104111050.468\n",
      "Residual sum of squares: 1.07\n",
      "[DEV]  R^2 - Variance score: 0.50\n",
      "\n",
      "\n",
      "\n",
      " [Iteration:2] Num of Training: 8118,  Num of Test: 2707\n",
      "Coefficients: \n",
      "[ -2.49135556e+11   3.10074808e-02   3.21563757e-02  -8.79590614e-03\n",
      "  -7.30591630e-03   4.70445390e-02  -1.32599805e-02   3.51126277e-03\n",
      "   1.44346516e-02   8.79856753e-02   3.13459708e-02   2.99906727e-03\n",
      "  -8.08920216e-03   2.49135556e+11   2.08949128e+08   2.08949129e+08\n",
      "   4.98624537e-01]\n",
      "\n",
      "Intercept:  -208949125.742\n",
      "Residual sum of squares: 1.08\n",
      "[DEV]  R^2 - Variance score: 0.50\n",
      "\n",
      "\n",
      "\n",
      " [Iteration:3] Num of Training: 8118,  Num of Test: 2707\n",
      "Coefficients: \n",
      "[-0.00469258  0.09800545  0.01079299 -0.01558093  0.00349207  0.03678716\n",
      " -0.01320716  0.00461901  0.02177507  0.08997642  0.03013355  0.00233367\n",
      " -0.00723777 -0.00469258 -0.21441543  0.21441543  0.49132645]\n",
      "\n",
      "Intercept:  2.85847773298\n",
      "Residual sum of squares: 1.11\n",
      "[DEV]  R^2 - Variance score: 0.48\n",
      "\n",
      "\n",
      "\n",
      " [Iteration:4] Num of Training: 8118,  Num of Test: 2707\n",
      "Coefficients: \n",
      "[ -7.81842318e+10   1.06818004e-01   4.86346294e-02  -2.07533468e-02\n",
      "   6.88844460e-04   4.04655599e-02  -1.30556085e-02   3.67796461e-03\n",
      "  -1.33550257e-02   8.86259129e-02   3.55139853e-02   4.16707094e-03\n",
      "  -6.00400530e-03   7.81842318e+10  -1.12433700e+08  -1.12433700e+08\n",
      "   5.00237442e-01]\n",
      "\n",
      "Intercept:  112433702.887\n",
      "Residual sum of squares: 1.09\n",
      "[DEV]  R^2 - Variance score: 0.48\n",
      "\n",
      "\n",
      "\n",
      " [Iteration:5] Num of Training: 8118,  Num of Test: 2707\n",
      "Coefficients: \n",
      "[-0.01472472  0.16375153  0.04822262 -0.01462033  0.00481754  0.03621175\n",
      " -0.0126809   0.00521533 -0.02758084  0.08751722  0.03530134  0.0039983\n",
      " -0.00644937 -0.01472472 -0.2126829   0.2126829   0.52572547]\n",
      "\n",
      "Intercept:  2.84668030753\n",
      "Residual sum of squares: 1.07\n",
      "[DEV]  R^2 - Variance score: 0.51\n",
      "\n",
      "\n"
     ]
    }
   ],
   "source": [
    "#  OLS with Cross Validation\n",
    "ols = linear_model.LinearRegression()\n",
    "\n",
    "#Here we define the ShuffleSplit, using 5 iterations, a test size of 25%\n",
    "ss = cross_validation.ShuffleSplit(X.shape[0], n_iter=5, test_size=0.25, random_state=0)\n",
    "count = 1\n",
    "\n",
    "#Here we iterate through our 5 pairs of train and test data:\n",
    "for train_index, test_index in ss:\n",
    "    print(\"\\n [Iteration:%d] Num of Training: %s,  Num of Test: %s\" % (count, len(train_index), len(test_index)))\n",
    "    # Train the model using the training sets\n",
    "    ols.fit(X[train_index], Y[train_index])\n",
    "\n",
    "    # Model Summary\n",
    "    output_model_summary(ols, X[test_index], Y[test_index])\n",
    "    \n",
    "    count += 1"
   ]
  },
  {
   "cell_type": "markdown",
   "metadata": {},
   "source": [
    "### a) Multiple Models\n",
    "\n",
    "To this point we have also been using all the data to test the models. As shown in the data analysis sections, there is a different pattern of use between casual and registered users.\n",
    "\n",
    "We previously created variables X_R, Y_R and X1_R for registered users, and X_C, Y_C and X1_C for casual users (X1 is the Kaggle data set). All X_R and X_C have the same number of rows. The difference comes in which data features are used.\n",
    "\n",
    "Let's try it using the simple linear regression model."
   ]
  },
  {
   "cell_type": "code",
   "execution_count": 90,
   "metadata": {
    "collapsed": false
   },
   "outputs": [
    {
     "name": "stdout",
     "output_type": "stream",
     "text": [
      "All users [count]\n",
      "Coefficients: \n",
      "[ 0.02190552  0.04121215  0.00783243 -0.03933923 -0.01341353  0.05804505\n",
      " -0.01078207  0.00366856  0.00647047  0.08786816  0.02806844  0.00262821\n",
      " -0.00921487  0.02190552 -0.28385695  0.28385695  0.53250213]\n",
      "\n",
      "Intercept:  2.65688359203\n",
      "Residual sum of squares: 1.16\n",
      "[DEV]  R^2 - Variance score: 0.43\n",
      "\n",
      "\n",
      "--------------------------------------------------------------------------------\n",
      "Registered users [registered]\n",
      "Coefficients: \n",
      "[  5.06455852e+10  -2.33386846e+01   1.10085060e-01   3.35817874e+00\n",
      "  -2.63289708e-01  -2.06643487e-01   1.37403594e+07   1.37403520e+07\n",
      "   1.37403110e+07   1.37402353e+07   9.45547778e+00   4.08025893e+00\n",
      "  -2.07252818e-01  -3.96048626e+01   5.44511464e+00   2.00515348e-01\n",
      "   1.27926679e+00   6.00659528e-02  -7.61268876e+06  -7.61267401e+06\n",
      "  -7.61260491e+06  -7.61258142e+06  -7.61258006e+06  -7.61264230e+06\n",
      "   2.02582341e+11  -5.06455852e+10  -9.21946334e+00   1.55981941e+02]\n",
      "\n",
      "Intercept:  -4.07393093993e+14\n",
      "Residual sum of squares: 11534.76\n",
      "[DEV]  R^2 - Variance score: 0.62\n",
      "\n",
      "\n",
      "--------------------------------------------------------------------------------\n",
      "Casual users [casual]\n",
      "Coefficients: \n",
      "[ -6.98905009e+08   2.20833230e+01  -5.87178732e-02   2.61840334e+00\n",
      "  -1.13971614e-01  -2.25703137e-01  -2.53028067e+05  -2.53030881e+05\n",
      "  -2.53037659e+05  -2.53047595e+05   9.71581013e+00   1.50988020e+00\n",
      "  -1.87097830e+00  -2.91069867e+01  -3.61388005e+05  -3.61389477e+05\n",
      "  -3.61371411e+05  -3.61372209e+05  -3.61376754e+05  -3.61393024e+05\n",
      "   3.78704646e+00   8.04098490e-01   1.63366943e+01   3.24824859e-01\n",
      "  -1.78723910e-01  -2.79562005e+09   6.98905015e+08   2.95228069e+01]\n",
      "\n",
      "Intercept:  5.62199253537e+12\n",
      "Residual sum of squares: 1933.48\n",
      "[DEV]  R^2 - Variance score: 0.48\n",
      "\n",
      "\n"
     ]
    }
   ],
   "source": [
    "#create the data variables for registered users\n",
    "test_r, test_r_labels = X_R[9000:], Y_R[9000:]\n",
    "dev_r, dev_r_labels = X_R[7000:9000], Y_R[7000:9000]\n",
    "train_r, train_r_labels = X_R[:7000], Y_R[:7000]\n",
    "\n",
    "#create the data variables for casual users\n",
    "test_c, test_c_labels = X_C[9000:], Y_C[9000:]\n",
    "dev_c, dev_c_labels = X_C[7000:9000], Y_C[7000:9000]\n",
    "train_c, train_c_labels = X_C[:7000], Y_C[:7000]\n",
    "\n",
    "#create the data variables for casual users\n",
    "test_c, test_c_labels = X_C[9000:], Y_C[9000:]\n",
    "dev_c, dev_c_labels = X_C[7000:9000], Y_C[7000:9000]\n",
    "train_c, train_c_labels = X_C[:7000], Y_C[:7000]\n",
    "\n",
    "# LinearRegression classifiers\n",
    "lr   = linear_model.LinearRegression() #all\n",
    "lr_c = linear_model.LinearRegression() #casual\n",
    "lr_r = linear_model.LinearRegression() #registered\n",
    "\n",
    "# fit the models\n",
    "lr.fit(train_data, train_labels)       #all\n",
    "lr_c.fit(train_c, train_c_labels) #casual\n",
    "lr_r.fit(train_r, train_r_labels) #registered\n",
    "\n",
    "# get the predictions\n",
    "pred = lr.predict(dev_data)        #all\n",
    "pred_c = lr_c.predict(dev_c)  #casual\n",
    "pred_r = lr_r.predict(dev_r)  #registered\n",
    "\n",
    "\n",
    "print \"All users [count]\"\n",
    "output_model_summary(lr, dev_data, dev_labels)\n",
    "print \"-\" * 80\n",
    "print \"Registered users [registered]\"\n",
    "output_model_summary(lr_r, dev_r, dev_r_labels)\n",
    "print \"-\" * 80\n",
    "print \"Casual users [casual]\"\n",
    "output_model_summary(lr_c, dev_c, dev_c_labels)"
   ]
  },
  {
   "cell_type": "markdown",
   "metadata": {},
   "source": [
    "We end up with some really nice variance scores for Registered and Casual users in predicting the number of Registered and Casual users.\n",
    "\n",
    "Since we know the Count for each hour is the sum of Registered and Casual, how do we do when we add our models together?"
   ]
  },
  {
   "cell_type": "code",
   "execution_count": 91,
   "metadata": {
    "collapsed": false
   },
   "outputs": [
    {
     "name": "stdout",
     "output_type": "stream",
     "text": [
      "[  69.50488281   76.33496094   47.81835938 ...,  328.8984375   339.95117188\n",
      "  381.25097656]\n",
      "\n",
      "Residual sum of squares: 76651.67\n",
      "R^2 - Variance score: 0.61\n"
     ]
    }
   ],
   "source": [
    "combined = pred_c + pred_r\n",
    "print combined\n",
    "\n",
    "# The mean square error\n",
    "print (\"\\nResidual sum of squares: %.2f\" % np.mean((np.rint(combined) - dev_labels) ** 2))\n",
    "    \n",
    "# Explained variance score: 1 is perfect prediction\n",
    "slope, intercept, r_value, p_value, std_err = stats.linregress(combined,dev_labels)\n",
    "print \"R^2 - Variance score: %.2f\" %r_value**2\n"
   ]
  },
  {
   "cell_type": "markdown",
   "metadata": {},
   "source": [
    "Let's see what we get using two models with simple linear regression but with the full Kaggle data set."
   ]
  },
  {
   "cell_type": "code",
   "execution_count": 92,
   "metadata": {
    "collapsed": false
   },
   "outputs": [
    {
     "name": "stdout",
     "output_type": "stream",
     "text": [
      "[ -2.64296875e+01  -1.89238281e+01  -1.79921875e+01 ...,   3.92626954e+09\n",
      "   3.92626954e+09   3.92626954e+09]\n",
      "[ -7.54843750e+01  -6.19062500e+01  -6.08750000e+01 ...,   4.31354682e+10\n",
      "   4.31354682e+10   4.31354682e+10]\n",
      "[ -1.01914062e+02  -8.08300781e+01  -7.88671875e+01 ...,   4.70617377e+10\n",
      "   4.70617377e+10   4.70617377e+10]\n",
      "\n",
      "\n",
      "Generating Kaggle Submission File: multiple_models_linear.csv\n",
      "Shape of Kaggle Test Set:  (6493, 9)\n",
      "Shape of Kaggle Test Set Prediction:  (6493,)\n",
      "Shape of Submission Dataframe:  (6493, 2)\n"
     ]
    }
   ],
   "source": [
    "# fit the models\n",
    "lr_c.fit(X_C, Y_C) #casual\n",
    "lr_r.fit(X_R, Y_R) #registered\n",
    "\n",
    "# get the predictions\n",
    "pred_c = lr_c.predict(X1_C)  #casual\n",
    "pred_r = lr_r.predict(X1_R)  #registered\n",
    "print pred_c\n",
    "print pred_r\n",
    "print pred_c + pred_r\n",
    "\n",
    "generate_kaggle_submission(pred_c + pred_r, \"multiple_models_linear.csv\")"
   ]
  },
  {
   "cell_type": "code",
   "execution_count": null,
   "metadata": {
    "collapsed": true
   },
   "outputs": [],
   "source": []
  },
  {
   "cell_type": "code",
   "execution_count": null,
   "metadata": {
    "collapsed": true
   },
   "outputs": [],
   "source": []
  }
 ],
 "metadata": {
  "kernelspec": {
   "display_name": "Python 2",
   "language": "python",
   "name": "python2"
  },
  "language_info": {
   "codemirror_mode": {
    "name": "ipython",
    "version": 2
   },
   "file_extension": ".py",
   "mimetype": "text/x-python",
   "name": "python",
   "nbconvert_exporter": "python",
   "pygments_lexer": "ipython2",
   "version": "2.7.10"
  }
 },
 "nbformat": 4,
 "nbformat_minor": 0
}
